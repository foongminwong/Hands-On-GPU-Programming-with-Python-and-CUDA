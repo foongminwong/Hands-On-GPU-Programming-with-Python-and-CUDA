{
 "cells": [
  {
   "cell_type": "code",
   "execution_count": 1,
   "metadata": {},
   "outputs": [
    {
     "name": "stdout",
     "output_type": "stream",
     "text": [
      "It took 17.10259485244751 seconds to calculate the Mandelbrot graph.\n",
      "It took 0.26150941848754883 seconds to dump the image.\n"
     ]
    }
   ],
   "source": [
    "from time import time\n",
    "import matplotlib\n",
    "#this will prevent the figure from popping up\n",
    "matplotlib.use('Agg')\n",
    "\n",
    "from matplotlib import pyplot as plt\n",
    "import numpy as np\n",
    "\n",
    "\n",
    "def simple_mandelbrot(width, height, real_low, real_high, imag_low, imag_high, max_iters, upper_bound):\n",
    "    \n",
    "    real_vals = np.linspace(real_low, real_high, width)\n",
    "    imag_vals = np.linspace(imag_low, imag_high, height)\n",
    "        \n",
    "    # we will represent members as 1, non-members as 0.\n",
    "    \n",
    "    mandelbrot_graph = np.ones((height,width), dtype=np.float32)\n",
    "    \n",
    "    for x in range(width):\n",
    "        \n",
    "        for y in range(height):\n",
    "            \n",
    "            c = np.complex64( real_vals[x] + imag_vals[y] * 1j  )            \n",
    "            z = np.complex64(0)\n",
    "            \n",
    "            for i in range(max_iters):\n",
    "                \n",
    "                z = z**2 + c\n",
    "                \n",
    "                if(np.abs(z) > upper_bound):\n",
    "                    mandelbrot_graph[y,x] = 0\n",
    "                    break\n",
    "                \n",
    "    return mandelbrot_graph\n",
    "\n",
    "\n",
    "if __name__ == '__main__':\n",
    "    \n",
    "    t1 = time()\n",
    "    mandel = simple_mandelbrot(512,512,-2,2,-2,2,256, 2.5)\n",
    "    t2 = time()\n",
    "    mandel_time = t2 - t1\n",
    "    \n",
    "    t1 = time()\n",
    "    fig = plt.figure(1)\n",
    "    plt.imshow(mandel, extent=(-2, 2, -2, 2))\n",
    "    plt.savefig('mandelbrot.png', dpi=fig.dpi)\n",
    "    t2 = time()\n",
    "    \n",
    "    dump_time = t2 - t1\n",
    "    \n",
    "    print('It took {} seconds to calculate the Mandelbrot graph.'.format(mandel_time))\n",
    "    print('It took {} seconds to dump the image.'.format(dump_time))"
   ]
  },
  {
   "attachments": {
    "image.png": {
     "image/png": "[encoded data removed]"
    }
   },
   "cell_type": "markdown",
   "metadata": {},
   "source": [
    "### Amdahl's Law\n",
    "\n",
    "![image.png](attachment:image.png)"
   ]
  },
  {
   "cell_type": "code",
   "execution_count": 2,
   "metadata": {},
   "outputs": [
    {
     "data": {
      "text/plain": [
       "17.36410427093506"
      ]
     },
     "execution_count": 2,
     "metadata": {},
     "output_type": "execute_result"
    }
   ],
   "source": [
    "total_time = mandel_time + dump_time\n",
    "total_time"
   ]
  },
  {
   "cell_type": "code",
   "execution_count": 3,
   "metadata": {},
   "outputs": [
    {
     "data": {
      "text/plain": [
       "0.9849396539892198"
      ]
     },
     "execution_count": 3,
     "metadata": {},
     "output_type": "execute_result"
    }
   ],
   "source": [
    "# p = portion of execution time for parallelizable code \n",
    "p = mandel_time / total_time\n",
    "p\n",
    "# This program is 98% parallelizable!"
   ]
  },
  {
   "cell_type": "code",
   "execution_count": 4,
   "metadata": {},
   "outputs": [
    {
     "data": {
      "text/plain": [
       "65.11984700157265"
      ]
     },
     "execution_count": 4,
     "metadata": {},
     "output_type": "execute_result"
    }
   ],
   "source": [
    "# Nvidia RTX A2000 - 3328 cores\n",
    "n_gpu_cores = 3328\n",
    "speed_up = 1/ ((1-p)+p/n_gpu_cores)\n",
    "speed_up # Is it worth the effort to program this algorithm to use the GPU?"
   ]
  },
  {
   "cell_type": "markdown",
   "metadata": {},
   "source": [
    "### Profiling the code\n",
    "- Standard `time` function in Python works fine for our small example program, not feasible for large-scale programs that call on many different functions, some of which may or may not be worth the effort to parallelize, or even optimize on the CPU\n",
    "- We might miss putting the `time` around some function call\n",
    "- Donald Knuth: \"Premature optimization is the root of all evil.\"\n",
    "- \"Find candidate portions of the code to offload onto the GPU before we even think about rewriting the code to run on the GPU\"\n",
    "- Profiler: To find out hot spots and bottlenecks in our code by identifying where our program is taking the most time, and allow us to optimize accordingly"
   ]
  },
  {
   "cell_type": "markdown",
   "metadata": {},
   "source": [
    "### Using cProfile module\n",
    "- Run the profile: `-m cProfile`\n",
    "- Organize results by cumulative time spent of each function: `-s cumtime`\n",
    "- Redirect output into a text file using `>` operator\n",
    "- Command: `python -m cProfile -s cumtime .\\mandelbrot0.py > mandel_profile.txt`\n",
    "- In `mandel-profile.txt`,\n",
    "    - Display list of functions that are called in the program, ordered from the cumulatively most time-consuming functions to the least\n",
    "    -  1st line is the program itself, 2nd line is the simple_mandelbrot function (aligns with measurement via `time` command)\n",
    "    - Use output from cProfile to infer where the bottlenecks are within a given program.\n"
   ]
  },
  {
   "cell_type": "markdown",
   "metadata": {},
   "source": [
    "### Questions\n",
    "1. There are three for statements in this chapter's Mandelbrot example; however, we can only parallelize over the first two. Why can't we parallelize over all of the for loops here?\n",
    "2. What is something that Amdahl's Law doesn't account for when we apply it to offloading a serial CPU algorithm to a GPU?\n",
    "3. Suppose that you gain exclusive access to three new top-secret GPUs that are the same in all respects, except for core counts—the first has 131,072 cores, the second has 262,144 cores, and the third has 524,288 cores. If you parallelize and offload the Mandelbrot example onto these GPUs (which generates a 512 x 512 pixel image), will there be a difference in computation time between the first and second GPU? How about between the second and third GPU?\n",
    "4. Can you think of any problems with designating certain algorithms or blocks of code as parallelizable in the context of Amdahl's Law?\n",
    "5. Why should we use profilers instead of just using Python's time function?"
   ]
  }
 ],
 "metadata": {
  "kernelspec": {
   "display_name": "Python 3",
   "language": "python",
   "name": "python3"
  },
  "language_info": {
   "codemirror_mode": {
    "name": "ipython",
    "version": 3
   },
   "file_extension": ".py",
   "mimetype": "text/x-python",
   "name": "python",
   "nbconvert_exporter": "python",
   "pygments_lexer": "ipython3",
   "version": "3.10.8"
  }
 },
 "nbformat": 4,
 "nbformat_minor": 2
}
