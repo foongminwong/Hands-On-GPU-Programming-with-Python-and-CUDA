{
 "cells": [
  {
   "cell_type": "markdown",
   "metadata": {},
   "source": [
    "### Using shared memory\n",
    "- While it is possible to use global memory for most operations [Chapter04/conway_gpu_syncthreads.ipynb](Chapter04/conway_gpu_syncthreads.ipynb), we can speed things up by using shared memory\n",
    "- Shared memory: \n",
    "    - Specifically for intercommunication of threads within a single CUDA block; the advantage of using this over global memory is that it is much faster for pure inter-thread communication\n",
    "    - Memory stored in shared memory cannot directly be accessed by the host\n",
    "    - shared memory must be copied back into global memory by the kernel itself first.\n",
    "- _X and _Y macros. (Compiler optimizations notwithstanding, we want to store these values in variables to reduce computation because directly using _X and _Y will recompute the x and y values every time these macros are referenced in our code)"
   ]
  },
  {
   "cell_type": "code",
   "execution_count": 1,
   "metadata": {},
   "outputs": [
    {
     "name": "stderr",
     "output_type": "stream",
     "text": [
      "C:\\Users\\foonwong\\AppData\\Local\\Temp\\ipykernel_29800\\1148511689.py:13: UserWarning: The CUDA compiler succeeded, but said the following:\n",
      "kernel.cu\n",
      "\n",
      "  shared_ker = SourceModule(\"\"\"\n"
     ]
    },
    {
     "data": {
      "image/png": "[encoded data removed]",
      "text/plain": [
       "<Figure size 640x480 with 1 Axes>"
      ]
     },
     "metadata": {},
     "output_type": "display_data"
    }
   ],
   "source": [
    "# Iterative Conway's game of life in Python / CUDA C\n",
    "# this version is meant to illustrate the use of shared kernel memory in CUDA.\n",
    "# written by Brian Tuomanen for \"Hands on GPU Programming with Python and CUDA\"\n",
    "\n",
    "import pycuda.autoinit\n",
    "import pycuda.driver as drv\n",
    "from pycuda import gpuarray\n",
    "from pycuda.compiler import SourceModule\n",
    "import numpy as np\n",
    "import matplotlib.pyplot as plt \n",
    "from time import time\n",
    "\n",
    "shared_ker = SourceModule(\"\"\"    \n",
    "#define _iters 1000000                       \n",
    "\n",
    "#define _X  ( threadIdx.x + blockIdx.x * blockDim.x )\n",
    "#define _Y  ( threadIdx.y + blockIdx.y * blockDim.y )\n",
    "\n",
    "#define _WIDTH  ( blockDim.x * gridDim.x )\n",
    "#define _HEIGHT ( blockDim.y * gridDim.y  )\n",
    "\n",
    "#define _XM(x)  ( (x + _WIDTH) % _WIDTH )\n",
    "#define _YM(y)  ( (y + _HEIGHT) % _HEIGHT )\n",
    "\n",
    "#define _INDEX(x,y)  ( _XM(x)  + _YM(y) * _WIDTH )\n",
    "\n",
    "// return the number of living neighbors for a given cell                \n",
    "__device__ int nbrs(int x, int y, int * in)\n",
    "{\n",
    "     return ( in[ _INDEX(x -1, y+1) ] + in[ _INDEX(x-1, y) ] + in[ _INDEX(x-1, y-1) ] \\\n",
    "                   + in[ _INDEX(x, y+1)] + in[_INDEX(x, y - 1)] \\\n",
    "                   + in[ _INDEX(x+1, y+1) ] + in[ _INDEX(x+1, y) ] + in[ _INDEX(x+1, y-1) ] );\n",
    "}\n",
    "\n",
    "__global__ void conway_ker_shared(int * p_lattice, int iters)\n",
    "{\n",
    "   // x, y are the appropriate values for the cell covered by this thread\n",
    "   int x = _X, y = _Y;\n",
    "   __shared__ int lattice[32*32];\n",
    "   \n",
    "   \n",
    "   lattice[_INDEX(x,y)] = p_lattice[_INDEX(x,y)];\n",
    "   __syncthreads();\n",
    "\n",
    "   for (int i = 0; i < iters; i++)\n",
    "   {\n",
    "   \n",
    "       // count the number of neighbors around the current cell\n",
    "       int n = nbrs(x, y, lattice);\n",
    "       \n",
    "       int cell_value;\n",
    "                       \n",
    "        \n",
    "        // if the current cell is alive, then determine if it lives or dies for the next generation.\n",
    "        if ( lattice[_INDEX(x,y)] == 1)\n",
    "           switch(n)\n",
    "           {\n",
    "              // if the cell is alive: it remains alive only if it has 2 or 3 neighbors.\n",
    "              case 2:\n",
    "              case 3: cell_value = 1;\n",
    "                      break;\n",
    "              default: cell_value = 0;                   \n",
    "           }\n",
    "        else if( lattice[_INDEX(x,y)] == 0 )\n",
    "             switch(n)\n",
    "             {\n",
    "                // a dead cell comes to life only if it has 3 neighbors that are alive.\n",
    "                case 3: cell_value = 1;\n",
    "                        break;\n",
    "                default: cell_value = 0;         \n",
    "             }\n",
    "             \n",
    "        __syncthreads();\n",
    "        lattice[_INDEX(x,y)] = cell_value;\n",
    "        __syncthreads();\n",
    "         \n",
    "    }\n",
    "             \n",
    "    __syncthreads();\n",
    "    p_lattice[_INDEX(x,y)] = lattice[_INDEX(x,y)];\n",
    "    __syncthreads();\n",
    "         \n",
    "}\n",
    "\"\"\")\n",
    "\n",
    "\n",
    "conway_ker_shared = shared_ker.get_function(\"conway_ker_shared\")\n",
    "    \n",
    "\n",
    "if __name__ == '__main__':\n",
    "    # set lattice size\n",
    "    N = 32\n",
    "    \n",
    "    lattice = np.int32( np.random.choice([1,0], N*N, p=[0.25, 0.75]).reshape(N, N) )\n",
    "    lattice_gpu = gpuarray.to_gpu(lattice)    \n",
    "    \n",
    "    conway_ker_shared(lattice_gpu, np.int32(1000000), grid=(1,1,1), block=(32,32,1))    \n",
    "    \n",
    "    fig = plt.figure(1)\n",
    "    plt.imshow(lattice_gpu.get())\n",
    "    plt.show()"
   ]
  }
 ],
 "metadata": {
  "kernelspec": {
   "display_name": "Python 3",
   "language": "python",
   "name": "python3"
  },
  "language_info": {
   "codemirror_mode": {
    "name": "ipython",
    "version": 3
   },
   "file_extension": ".py",
   "mimetype": "text/x-python",
   "name": "python",
   "nbconvert_exporter": "python",
   "pygments_lexer": "ipython3",
   "version": "3.10.8"
  }
 },
 "nbformat": 4,
 "nbformat_minor": 2
}
